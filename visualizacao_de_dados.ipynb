{
  "nbformat": 4,
  "nbformat_minor": 0,
  "metadata": {
    "colab": {
      "provenance": []
    },
    "kernelspec": {
      "name": "python3",
      "display_name": "Python 3"
    },
    "language_info": {
      "name": "python"
    }
  },
  "cells": [
    {
      "cell_type": "code",
      "execution_count": null,
      "metadata": {
        "id": "b8gWciNHphyj"
      },
      "outputs": [],
      "source": [
        "import pandas as pd\n",
        "import matplotlib.pyplot as plt\n",
        "import seaborn as sns\n",
        "import numpy as np\n",
        "\n",
        "#carrega o conjunto de dados\n",
        "df = pd.read_csv('/content/drive/MyDrive/ecommerce_estatistica.csv', encoding='utf-8')"
      ]
    },
    {
      "cell_type": "code",
      "source": [
        "#gráfico histograma\n",
        "plt.figure(figsize=(8,5))\n",
        "sns.histplot(df['Nota'], bins=30, color=\"green\", alpha=0.8)\n",
        "plt.xlabel('Nota dos Produtos')\n",
        "plt.ylabel('Frequência')\n",
        "plt.title('Histograma - Distribuição de Notas')\n",
        "plt.show()"
      ],
      "metadata": {
        "id": "GYIjrwIDz3sC"
      },
      "execution_count": null,
      "outputs": []
    },
    {
      "cell_type": "code",
      "source": [
        "#gráfico de dispersão\n",
        "plt.figure(figsize=(8, 5))\n",
        "sns.scatterplot(x=df['Preço'], y=df['Nota'], alpha=0.6, color='purple')\n",
        "plt.xlabel('Preço (R$)')\n",
        "plt.ylabel('Nota dos Produtos')\n",
        "plt.title('Dispersão - Nota e Preço')\n",
        "plt.show()"
      ],
      "metadata": {
        "id": "zsP58PGwz66n"
      },
      "execution_count": null,
      "outputs": []
    },
    {
      "cell_type": "code",
      "source": [
        "#mapa de calor\n",
        "corr = df[['Nota', 'N_Avaliações', 'Preço', 'Qtd_Vendidos_Cod']].corr()\n",
        "plt.figure(figsize=(8, 6))\n",
        "sns.heatmap(corr, annot=True, cmap='coolwarm', fmt='.2f', linewidths=0.5, vmin=-1, vmax=1)\n",
        "plt.title('Correlações Nota, Nº de Avaliações, Preço e Qtd Vendidas')\n",
        "plt.show()\n"
      ],
      "metadata": {
        "id": "Cwe1FT2c1WNY"
      },
      "execution_count": null,
      "outputs": []
    },
    {
      "cell_type": "code",
      "source": [
        "#gráfico de barra\n",
        "plt.figure(figsize=(10, 6))\n",
        "sns.countplot(x='Temporada', data=df)\n",
        "plt.title('Quantidade de Produtos por Temporada')\n",
        "plt.xlabel('Temporada')\n",
        "plt.ylabel('Quantidade')\n",
        "plt.xticks(rotation=45)\n",
        "plt.show()"
      ],
      "metadata": {
        "id": "Jq_ty_f_21X9"
      },
      "execution_count": null,
      "outputs": []
    },
    {
      "cell_type": "code",
      "source": [
        "#gráfico de pizza\n",
        "x = df['Gênero'].value_counts().index\n",
        "y = df['Gênero'].value_counts().values\n",
        "plt.figure(figsize=(12, 12))\n",
        "plt.pie(y, labels=x, autopct='%1.1f%%', startangle=180)\n",
        "plt.title('Distribuição de Produtos por Gênero')\n",
        "plt.show()"
      ],
      "metadata": {
        "id": "gNydn3Hv5mks"
      },
      "execution_count": null,
      "outputs": []
    },
    {
      "cell_type": "code",
      "source": [
        "#gráfico de densidade\n",
        "plt.figure(figsize=(8, 6))\n",
        "sns.kdeplot(df['Preço'], fill=True)\n",
        "plt.title('Densidade de Preços')\n",
        "plt.xlabel('Preço (R$)')\n",
        "plt.ylabel('Densidade')\n",
        "plt.show()"
      ],
      "metadata": {
        "id": "rc5cxWUf8bL5"
      },
      "execution_count": null,
      "outputs": []
    },
    {
      "cell_type": "code",
      "source": [
        "#gráfico de regressão\n",
        "plt.figure(figsize=(8, 6))\n",
        "sns.regplot(x='Preço', y='Qtd_Vendidos_Cod', data=df)\n",
        "plt.title('Relação entre Preço e Quantidade Vendida')\n",
        "plt.xlabel('Preço (R$)')\n",
        "plt.ylabel('Quantidade Vendida')\n",
        "plt.show()"
      ],
      "metadata": {
        "id": "XdzVVc4y-_ZG"
      },
      "execution_count": null,
      "outputs": []
    }
  ]
}

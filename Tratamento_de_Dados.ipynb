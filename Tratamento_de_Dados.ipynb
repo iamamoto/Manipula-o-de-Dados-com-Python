{
  "nbformat": 4,
  "nbformat_minor": 0,
  "metadata": {
    "colab": {
      "provenance": []
    },
    "kernelspec": {
      "name": "python3",
      "display_name": "Python 3"
    },
    "language_info": {
      "name": "python"
    }
  },
  "cells": [
    {
      "cell_type": "markdown",
      "source": [
        "- importacado do arquivo com os dados"
      ],
      "metadata": {
        "id": "OTWZPNFmUgyw"
      }
    },
    {
      "cell_type": "code",
      "execution_count": null,
      "metadata": {
        "id": "7sm-EzVeFAl8"
      },
      "outputs": [],
      "source": [
        "import pandas as pd\n",
        "\n",
        "df = pd.read_csv('/content/Drive/MyDrive/ecommerce.csv', encoding='utf-8')"
      ]
    },
    {
      "cell_type": "markdown",
      "source": [
        "- Verificações inicias do arquivo de dados"
      ],
      "metadata": {
        "id": "kVlOl2H6VpOx"
      }
    },
    {
      "cell_type": "code",
      "source": [
        "print('Verificar a qtd de Linhas e colunas: ', df.shape)\n",
        "print('Verificar Tipagem:\\n', df.dtypes)\n",
        "print('Verificar valores nulos:\\n', df.isnull().sum())"
      ],
      "metadata": {
        "id": "hJh_7SapVeIn"
      },
      "execution_count": null,
      "outputs": []
    },
    {
      "cell_type": "markdown",
      "source": [
        "- Substitui os valores nulos das colunas ‘Temporada’ e ‘Marca’ por ‘Não Definido’"
      ],
      "metadata": {
        "id": "xIGNWsKVdtLo"
      }
    },
    {
      "cell_type": "code",
      "source": [
        "df.fillna({'Temporada':'Não Definido'}, inplace=True)\n",
        "df.fillna({'Marca':'Não Definido'}, inplace=True)"
      ],
      "metadata": {
        "id": "5i9ICeKSdtT4"
      },
      "execution_count": null,
      "outputs": []
    },
    {
      "cell_type": "markdown",
      "source": [
        "- Converte colunas 'Marca', 'Material' e 'Temporada' para letras minúsculas"
      ],
      "metadata": {
        "id": "ul7TAFRqVH3R"
      }
    },
    {
      "cell_type": "code",
      "source": [
        "df['Marca'] = df['Marca'].str.lower()\n",
        "df['Material'] = df['Material'].str.lower()\n",
        "df['Temporada'] = df['Temporada'].str.lower()"
      ],
      "metadata": {
        "id": "7Ic6amF1VIA3"
      },
      "execution_count": 23,
      "outputs": []
    },
    {
      "cell_type": "markdown",
      "source": [
        "- Retira linhas duplicadas e retira linhas com menos de 8 valores não nulos"
      ],
      "metadata": {
        "id": "uhOn89EFahgl"
      }
    },
    {
      "cell_type": "code",
      "source": [
        "df.drop_duplicates()\n",
        "df = df.dropna(thresh=8)"
      ],
      "metadata": {
        "id": "xjA-QYn0ahvC"
      },
      "execution_count": 24,
      "outputs": []
    },
    {
      "cell_type": "markdown",
      "source": [
        "- Cálculo do intervalo interquartil (IQR)\n",
        "- Definição do limite superior\n",
        "- Filtra produtos que possuem um número de avaliações maior que o limite superior"
      ],
      "metadata": {
        "id": "rtj8hdJ8a_-8"
      }
    },
    {
      "cell_type": "code",
      "source": [
        "q1 = df['N_Avaliacoes'].quantile(0.25)\n",
        "q3 = df['N_Avaliacoes'].quantile(0.75)\n",
        "iqr = q3 - q1\n",
        "\n",
        "limite_alto = q3 + 1.5 * iqr\n",
        "\n",
        "df_avaliados = df[df['N_Avaliacoes'] > limite_alto]"
      ],
      "metadata": {
        "id": "7w8zS-dQbAHS"
      },
      "execution_count": 28,
      "outputs": []
    },
    {
      "cell_type": "markdown",
      "source": [
        "- Tratamento da coluna 'Condicao'\n",
        "  - Aloca a primeira palavra da coluna 'Condicao' na nova coluna 'Condicao_Atual'\n",
        "  - Aloca a quinta palavra da coluna 'Condicao' na nova coluna 'Qtd_Vendidos'"
      ],
      "metadata": {
        "id": "eVdtLTeheC29"
      }
    },
    {
      "cell_type": "code",
      "source": [
        "df['Condicao_Atual'] = df['Condicao'].apply(lambda x: x.split(' ')[0].strip())\n",
        "df['Qtd_Vendidos'] = df['Condicao'].apply(lambda x: x.split(' ')[4].strip() if len(x.split(' ')) > 4 else 'Nenhum')"
      ],
      "metadata": {
        "id": "AWEG4I2eeDB-"
      },
      "execution_count": null,
      "outputs": []
    },
    {
      "cell_type": "markdown",
      "source": [
        "- Tratamento do campo desconto"
      ],
      "metadata": {
        "id": "IBl5W_zSccGA"
      }
    },
    {
      "cell_type": "code",
      "source": [
        "df['Desconto'] = df['Desconto'].astype(str)\n",
        "df['Desconto'] = df['Desconto'].apply(lambda x: x.split('%')[0].strip())"
      ],
      "metadata": {
        "id": "q5WMngTSccQp"
      },
      "execution_count": 34,
      "outputs": []
    },
    {
      "cell_type": "markdown",
      "source": [
        "- Salva o dataframe em novo arquivo"
      ],
      "metadata": {
        "id": "lJw2NlUsk2hC"
      }
    },
    {
      "cell_type": "code",
      "source": [
        "df.to_csv('/content/Drive/MyDrive/ecommerce_tratado.csv', index=False)"
      ],
      "metadata": {
        "id": "uoleUK37k6XR"
      },
      "execution_count": null,
      "outputs": []
    }
  ]
}
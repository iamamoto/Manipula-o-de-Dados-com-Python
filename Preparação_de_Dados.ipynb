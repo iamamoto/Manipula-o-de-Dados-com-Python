{
  "nbformat": 4,
  "nbformat_minor": 0,
  "metadata": {
    "colab": {
      "provenance": []
    },
    "kernelspec": {
      "name": "python3",
      "display_name": "Python 3"
    },
    "language_info": {
      "name": "python"
    }
  },
  "cells": [
    {
      "cell_type": "markdown",
      "source": [
        "- importacado do arquivo com os dados"
      ],
      "metadata": {
        "id": "OTWZPNFmUgyw"
      }
    },
    {
      "cell_type": "code",
      "execution_count": null,
      "metadata": {
        "id": "7sm-EzVeFAl8"
      },
      "outputs": [],
      "source": [
        "import pandas as pd\n",
        "\n",
        "df = pd.read_csv('/content/drive/MyDrive/ecommerce_tratado.csv', encoding='utf-8')"
      ]
    },
    {
      "cell_type": "markdown",
      "source": [
        "- Verifica quantidade de dados únicos em cada coluna\n",
        "- Verifica estatísticas descritivas dos campos numéricos"
      ],
      "metadata": {
        "id": "2ds5N6sIerTY"
      }
    },
    {
      "cell_type": "code",
      "source": [
        "print('Analise de dados únicos:\\n', df.nunique())\n",
        "print('Estatísticas dos dados:\\n', df.describe())"
      ],
      "metadata": {
        "id": "bdgJODa5erbX"
      },
      "execution_count": null,
      "outputs": []
    },
    {
      "cell_type": "markdown",
      "source": [
        "- Cria campo 'Preco' a partir dos campos 'Reais' e 'Centavos'\n",
        "- Remove os campos 'Reais', 'Centavos', 'Condicao' e 'Condicao_Atual'"
      ],
      "metadata": {
        "id": "EQifc895lqw-"
      }
    },
    {
      "cell_type": "code",
      "source": [
        "df['Preco'] = df['Reais'] + (df['Centavos']/100)\n",
        "df = df.drop(['Reais', 'Centavos', 'Condicao', 'Condicao_Atual'], axis=1)"
      ],
      "metadata": {
        "id": "-yJDf96Qlwvv"
      },
      "execution_count": null,
      "outputs": []
    },
    {
      "cell_type": "markdown",
      "source": [
        "- Cria campos a partir da scala dos campos 'Nota', 'N_Avaliacoes', 'Desconto' e 'Preco'\n"
      ],
      "metadata": {
        "id": "5ikYkcgZmVA1"
      }
    },
    {
      "cell_type": "code",
      "source": [
        "scaler = MinMaxScaler(feature_range=(0,1))\n",
        "df['Nota_MinMax'] = scaler.fit_transform(df[['Nota']])\n",
        "df['N_Avaliacoes_MinMax'] = scaler.fit_transform(df[['N_Avaliacoes']])\n",
        "df['Desconto_MinMax'] = scaler.fit_transform(df[['Desconto']])\n",
        "df['Preco_MinMax'] = scaler.fit_transform(df[['Preco']])"
      ],
      "metadata": {
        "id": "Vy22LaM6mTvt"
      },
      "execution_count": null,
      "outputs": []
    },
    {
      "cell_type": "markdown",
      "source": [
        "- Cria campos nuéricos referente ao campos 'Marca', 'Material' e 'Temporada'\n"
      ],
      "metadata": {
        "id": "e06JkwkJn9pm"
      }
    },
    {
      "cell_type": "code",
      "source": [
        "label_encoder = LabelEncoder()\n",
        "df['Marca_Cod'] = label_encoder.fit_transform(df['Marca'])\n",
        "df['Material_Cod'] = label_encoder.fit_transform(df['Material'])\n",
        "df['Temporada_Cod'] = label_encoder.fit_transform(df['Temporada'])"
      ],
      "metadata": {
        "id": "1caOYV7un70h"
      },
      "execution_count": null,
      "outputs": []
    },
    {
      "cell_type": "markdown",
      "source": [
        "- Cria campo 'Qtd_Vendidos_Cod' numérico referente ao campo 'Qtd_Vendidos' de acordo com sua grandeza\n",
        "- Cria o campo 'Marca_Freq' numérico referente ao campo 'Marca' de acordo com a frequência do valor.\n",
        "- Cria o campo 'Material_Freq' numérico referente ao campo 'Material' de acordo com a frequência do valor."
      ],
      "metadata": {
        "id": "8EQUBad7oUkj"
      }
    },
    {
      "cell_type": "code",
      "source": [
        "grandezas = {'Nenhum':0,'1':1, '2':2, '3':3, '4':4, '+5': 5, '+25':25, '+50':50, '+100':100, '+1000':1000, '+10mil':10000, '+50mil':50000}\n",
        "df['Qtd_Vendidos_Cod'] = df['Qtd_Vendidos'].map(grandezas)\n",
        "\n",
        "frequencia_marca = df['Marca'].value_counts() / len(df)\n",
        "df['Marca_Freq'] = df['Marca'].map(frequencia_marca)\n",
        "\n",
        "frequencia_material = df['Material'].value_counts() / len(df)\n",
        "df['Material_Freq'] = df['Material'].map(frequencia_material)"
      ],
      "metadata": {
        "id": "NwY-lmryoU7A"
      },
      "execution_count": null,
      "outputs": []
    },
    {
      "cell_type": "markdown",
      "source": [
        "- Salva dataframe alterado em novo arquivo"
      ],
      "metadata": {
        "id": "t70wpb1cpJM7"
      }
    },
    {
      "cell_type": "code",
      "source": [
        "df.to_csv('/content/drive/MyDrive/ecommerce_estatisca.csv', index=False)"
      ],
      "metadata": {
        "id": "no4JH6akpKQ7"
      },
      "execution_count": null,
      "outputs": []
    }
  ]
}